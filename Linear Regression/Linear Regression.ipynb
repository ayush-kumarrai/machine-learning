{
 "cells": [
  {
   "cell_type": "code",
   "execution_count": 1,
   "id": "687bf448-4d68-40ad-aaa6-f62bef35c1cf",
   "metadata": {},
   "outputs": [],
   "source": [
    "import pandas as pd\n",
    "import matplotlib.pyplot as plt"
   ]
  },
  {
   "cell_type": "code",
   "execution_count": 49,
   "id": "c4b6350f-0bd9-4c30-9ceb-888aa6fddaa6",
   "metadata": {},
   "outputs": [],
   "source": [
    "data = pd.read_csv('data.csv')"
   ]
  },
  {
   "cell_type": "code",
   "execution_count": 54,
   "id": "513490c0-d6f3-4545-9310-51dff67bb3ed",
   "metadata": {},
   "outputs": [
    {
     "data": {
      "text/html": [
       "<div>\n",
       "<style scoped>\n",
       "    .dataframe tbody tr th:only-of-type {\n",
       "        vertical-align: middle;\n",
       "    }\n",
       "\n",
       "    .dataframe tbody tr th {\n",
       "        vertical-align: top;\n",
       "    }\n",
       "\n",
       "    .dataframe thead th {\n",
       "        text-align: right;\n",
       "    }\n",
       "</style>\n",
       "<table border=\"1\" class=\"dataframe\">\n",
       "  <thead>\n",
       "    <tr style=\"text-align: right;\">\n",
       "      <th></th>\n",
       "      <th>studytime</th>\n",
       "      <th>score</th>\n",
       "    </tr>\n",
       "  </thead>\n",
       "  <tbody>\n",
       "    <tr>\n",
       "      <th>0</th>\n",
       "      <td>2.5</td>\n",
       "      <td>21</td>\n",
       "    </tr>\n",
       "    <tr>\n",
       "      <th>1</th>\n",
       "      <td>5.1</td>\n",
       "      <td>47</td>\n",
       "    </tr>\n",
       "    <tr>\n",
       "      <th>2</th>\n",
       "      <td>3.2</td>\n",
       "      <td>27</td>\n",
       "    </tr>\n",
       "    <tr>\n",
       "      <th>3</th>\n",
       "      <td>8.5</td>\n",
       "      <td>75</td>\n",
       "    </tr>\n",
       "    <tr>\n",
       "      <th>4</th>\n",
       "      <td>3.5</td>\n",
       "      <td>30</td>\n",
       "    </tr>\n",
       "    <tr>\n",
       "      <th>...</th>\n",
       "      <td>...</td>\n",
       "      <td>...</td>\n",
       "    </tr>\n",
       "    <tr>\n",
       "      <th>91</th>\n",
       "      <td>5.8</td>\n",
       "      <td>60</td>\n",
       "    </tr>\n",
       "    <tr>\n",
       "      <th>92</th>\n",
       "      <td>4.4</td>\n",
       "      <td>44</td>\n",
       "    </tr>\n",
       "    <tr>\n",
       "      <th>93</th>\n",
       "      <td>6.1</td>\n",
       "      <td>63</td>\n",
       "    </tr>\n",
       "    <tr>\n",
       "      <th>94</th>\n",
       "      <td>3.7</td>\n",
       "      <td>37</td>\n",
       "    </tr>\n",
       "    <tr>\n",
       "      <th>95</th>\n",
       "      <td>8.0</td>\n",
       "      <td>84</td>\n",
       "    </tr>\n",
       "  </tbody>\n",
       "</table>\n",
       "<p>96 rows × 2 columns</p>\n",
       "</div>"
      ],
      "text/plain": [
       "    studytime  score\n",
       "0         2.5     21\n",
       "1         5.1     47\n",
       "2         3.2     27\n",
       "3         8.5     75\n",
       "4         3.5     30\n",
       "..        ...    ...\n",
       "91        5.8     60\n",
       "92        4.4     44\n",
       "93        6.1     63\n",
       "94        3.7     37\n",
       "95        8.0     84\n",
       "\n",
       "[96 rows x 2 columns]"
      ]
     },
     "execution_count": 54,
     "metadata": {},
     "output_type": "execute_result"
    }
   ],
   "source": [
    "data"
   ]
  },
  {
   "cell_type": "code",
   "execution_count": 55,
   "id": "93ca499b-3e88-43ec-88d2-7d01724c9843",
   "metadata": {},
   "outputs": [],
   "source": [
    "def lost_function(m, c, points):\n",
    "    total_error= 0\n",
    "    for i in range(len(points)):\n",
    "        x= points.iloc[i].studytime\n",
    "        y= points.iloc[i].score\n",
    "        total_error += (y - (m*x+c))**2\n",
    "    total_error / float(len(points))\n",
    "        "
   ]
  },
  {
   "cell_type": "code",
   "execution_count": null,
   "id": "ba5d6fe3-7fbf-4aac-afef-74051e296e17",
   "metadata": {},
   "outputs": [
    {
     "name": "stdout",
     "output_type": "stream",
     "text": [
      "Epoch: 0\n",
      "Epoch: 50\n",
      "Epoch: 100\n",
      "Epoch: 150\n"
     ]
    }
   ],
   "source": [
    "def gradient_descent(m_now, c_now, points, L):\n",
    "    m_gradient = 0\n",
    "    c_gradient = 0\n",
    "    n = len(points)\n",
    "\n",
    "    for i in range(n):\n",
    "        x= points.iloc[i].studytime\n",
    "        y= points.iloc[i].score\n",
    "\n",
    "        m_gradient += -(2/n) *x *(y -(m_now * x + c_now))\n",
    "        c_gradient += -(2/n) *(y -(m_now * x + c_now))\n",
    "    m = m_now - m_gradient * L\n",
    "    c = c_now - c_gradient * L\n",
    "    return  m, c\n",
    "m=0\n",
    "c=0\n",
    "L=0.0001\n",
    "epochs = 300\n",
    "\n",
    "for i in range(epochs):\n",
    "    if i%50 == 0:\n",
    "        print(f\"Epoch: {i}\")\n",
    "    m, c = gradient_descent(m, c, data , L)\n",
    "\n",
    "print(m, c)\n",
    "    "
   ]
  },
  {
   "cell_type": "code",
   "execution_count": null,
   "id": "12db7b18-2465-4201-91a3-15a04821180e",
   "metadata": {},
   "outputs": [],
   "source": [
    "plt.scatter(data.studytime , data.score, color=\"black\")\n",
    "plt.plot(list(range(20, 80)), [m*x + c for x in range (20, 80)], color = \"red\")\n",
    "plt.show()"
   ]
  },
  {
   "cell_type": "code",
   "execution_count": null,
   "id": "427aed44-b915-4342-aa2e-0d0efef82759",
   "metadata": {},
   "outputs": [],
   "source": []
  }
 ],
 "metadata": {
  "kernelspec": {
   "display_name": "Python 3 (ipykernel)",
   "language": "python",
   "name": "python3"
  },
  "language_info": {
   "codemirror_mode": {
    "name": "ipython",
    "version": 3
   },
   "file_extension": ".py",
   "mimetype": "text/x-python",
   "name": "python",
   "nbconvert_exporter": "python",
   "pygments_lexer": "ipython3",
   "version": "3.11.2"
  }
 },
 "nbformat": 4,
 "nbformat_minor": 5
}
